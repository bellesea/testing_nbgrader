{
 "cells": [
  {
   "cell_type": "code",
   "execution_count": null,
   "id": "f4da03ae-a4e7-4a41-ab0a-dd5d08adc4c8",
   "metadata": {},
   "outputs": [],
   "source": [
    "def even(x):\n",
    "    ### DEFINE THIS\n",
    "    return\n"
   ]
  },
  {
   "cell_type": "code",
   "execution_count": null,
   "id": "0e1f2887-a8a4-4717-aca3-991ec1580b28",
   "metadata": {
    "nbgrader": {
     "grade": true,
     "grade_id": "cell-6a704af2d61c8245",
     "locked": true,
     "points": 4,
     "schema_version": 3,
     "solution": false,
     "task": false
    }
   },
   "outputs": [],
   "source": [
    "### BEGIN HIDDEN TESTS\n",
    "assert(even(0) == True)\n",
    "assert(even(1) == False)\n",
    "### END HIDDEN TESTS"
   ]
  }
 ],
 "metadata": {
  "kernelspec": {
   "display_name": "Python 3 (ipykernel)",
   "language": "python",
   "name": "python3"
  },
  "language_info": {
   "codemirror_mode": {
    "name": "ipython",
    "version": 3
   },
   "file_extension": ".py",
   "mimetype": "text/x-python",
   "name": "python",
   "nbconvert_exporter": "python",
   "pygments_lexer": "ipython3",
   "version": "3.11.7"
  }
 },
 "nbformat": 4,
 "nbformat_minor": 5
}
