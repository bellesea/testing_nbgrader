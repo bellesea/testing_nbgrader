{
 "cells": [
  {
   "cell_type": "markdown",
   "id": "07f5926d",
   "metadata": {},
   "source": [
    "Before you turn this problem in, make sure everything runs as expected. First, **restart the kernel** (in the menubar, select Kernel $\\rightarrow$ Restart) and then **run all cells** (in the menubar, select Cell $\\rightarrow$ Run All).\n",
    "\n",
    "Make sure you fill in any place that says `YOUR CODE HERE` or \"YOUR ANSWER HERE\", as well as your name and collaborators below:"
   ]
  },
  {
   "cell_type": "code",
   "execution_count": 1,
   "id": "34686642",
   "metadata": {
    "execution": {
     "iopub.execute_input": "2025-03-02T20:45:27.275222Z",
     "iopub.status.busy": "2025-03-02T20:45:27.274936Z",
     "iopub.status.idle": "2025-03-02T20:45:27.282946Z",
     "shell.execute_reply": "2025-03-02T20:45:27.282488Z"
    }
   },
   "outputs": [],
   "source": [
    "NAME = \"Belle\"\n",
    "COLLABORATORS = \"No one\""
   ]
  },
  {
   "cell_type": "markdown",
   "id": "b800cfed",
   "metadata": {},
   "source": [
    "---"
   ]
  },
  {
   "cell_type": "code",
   "execution_count": 2,
   "id": "f4da03ae-a4e7-4a41-ab0a-dd5d08adc4c8",
   "metadata": {
    "execution": {
     "iopub.execute_input": "2025-03-02T20:45:27.285656Z",
     "iopub.status.busy": "2025-03-02T20:45:27.285477Z",
     "iopub.status.idle": "2025-03-02T20:45:27.288087Z",
     "shell.execute_reply": "2025-03-02T20:45:27.287660Z"
    }
   },
   "outputs": [],
   "source": [
    "def even(x):\n",
    "    if x % 2 == 0:\n",
    "        return True\n",
    "    return False\n"
   ]
  },
  {
   "cell_type": "code",
   "execution_count": 3,
   "id": "0e1f2887-a8a4-4717-aca3-991ec1580b28",
   "metadata": {
    "deletable": false,
    "editable": false,
    "execution": {
     "iopub.execute_input": "2025-03-02T20:45:27.290283Z",
     "iopub.status.busy": "2025-03-02T20:45:27.290122Z",
     "iopub.status.idle": "2025-03-02T20:45:27.292227Z",
     "shell.execute_reply": "2025-03-02T20:45:27.291898Z"
    },
    "nbgrader": {
     "cell_type": "code",
     "checksum": "8ff84e4cfffb3dbd5711289bdd5b456f",
     "grade": true,
     "grade_id": "cell-6a704af2d61c8245",
     "locked": true,
     "points": 4,
     "schema_version": 3,
     "solution": false,
     "task": false
    }
   },
   "outputs": [],
   "source": [
    "### BEGIN HIDDEN TESTS\n",
    "assert(even(0) == True)\n",
    "assert(even(1) == False)\n",
    "### END HIDDEN TESTS"
   ]
  }
 ],
 "metadata": {
  "kernelspec": {
   "display_name": "Python 3 (ipykernel)",
   "language": "python",
   "name": "python3"
  },
  "language_info": {
   "codemirror_mode": {
    "name": "ipython",
    "version": 3
   },
   "file_extension": ".py",
   "mimetype": "text/x-python",
   "name": "python",
   "nbconvert_exporter": "python",
   "pygments_lexer": "ipython3",
   "version": "3.11.7"
  }
 },
 "nbformat": 4,
 "nbformat_minor": 5
}
