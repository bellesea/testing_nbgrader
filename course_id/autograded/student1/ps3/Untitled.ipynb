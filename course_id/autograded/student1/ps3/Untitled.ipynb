{
 "cells": [
  {
   "attachments": {},
   "cell_type": "markdown",
   "id": "a3df0758",
   "metadata": {},
   "source": [
    "Before you turn this problem in, make sure everything runs as expected. First, **restart the kernel** (in the menubar, select Kernel $\\rightarrow$ Restart) and then **run all cells** (in the menubar, select Cell $\\rightarrow$ Run All).\n",
    "\n",
    "Make sure you fill in any place that says `YOUR CODE HERE` or \"YOUR ANSWER HERE\", as well as your name and collaborators below:"
   ]
  },
  {
   "cell_type": "code",
   "execution_count": 1,
   "id": "a5135ae3",
   "metadata": {
    "execution": {
     "iopub.execute_input": "2025-03-02T20:41:31.639623Z",
     "iopub.status.busy": "2025-03-02T20:41:31.639221Z",
     "iopub.status.idle": "2025-03-02T20:41:31.647779Z",
     "shell.execute_reply": "2025-03-02T20:41:31.647270Z"
    }
   },
   "outputs": [],
   "source": [
    "NAME = \"BELLE\"\n",
    "COLLABORATORS = \"No one else\""
   ]
  },
  {
   "attachments": {},
   "cell_type": "markdown",
   "id": "df6afe68",
   "metadata": {},
   "source": [
    "---"
   ]
  },
  {
   "cell_type": "code",
   "execution_count": 2,
   "id": "0e1f2887-a8a4-4717-aca3-991ec1580b28",
   "metadata": {
    "deletable": false,
    "editable": false,
    "execution": {
     "iopub.execute_input": "2025-03-02T20:41:31.650755Z",
     "iopub.status.busy": "2025-03-02T20:41:31.650556Z",
     "iopub.status.idle": "2025-03-02T20:41:31.903344Z",
     "shell.execute_reply": "2025-03-02T20:41:31.903054Z"
    },
    "nbgrader": {
     "cell_type": "code",
     "checksum": "e6ab8f7d052752d8fda95e4bdad52ac8",
     "grade": true,
     "grade_id": "cell-6a704af2d61c8245",
     "locked": true,
     "points": 4,
     "schema_version": 3,
     "solution": false,
     "task": false
    }
   },
   "outputs": [
    {
     "ename": "AssertionError",
     "evalue": "",
     "output_type": "error",
     "traceback": [
      "\u001b[0;31m---------------------------------------------------------------------------\u001b[0m",
      "\u001b[0;31mAssertionError\u001b[0m                            Traceback (most recent call last)",
      "Cell \u001b[0;32mIn[2], line 7\u001b[0m\n\u001b[1;32m      3\u001b[0m     \u001b[38;5;28;01mreturn\u001b[39;00m\n\u001b[1;32m      6\u001b[0m \u001b[38;5;66;03m### BEGIN HIDDEN TESTS\u001b[39;00m\n\u001b[0;32m----> 7\u001b[0m \u001b[38;5;28;01massert\u001b[39;00m(even(\u001b[38;5;241m0\u001b[39m) \u001b[38;5;241m==\u001b[39m \u001b[38;5;28;01mTrue\u001b[39;00m)\n\u001b[1;32m      8\u001b[0m \u001b[38;5;28;01massert\u001b[39;00m(even(\u001b[38;5;241m1\u001b[39m) \u001b[38;5;241m==\u001b[39m \u001b[38;5;28;01mFalse\u001b[39;00m)\n",
      "\u001b[0;31mAssertionError\u001b[0m: "
     ]
    }
   ],
   "source": [
    "def even(x):\n",
    "    ### DEFINE THIS\n",
    "    return\n",
    "\n",
    "\n",
    "### BEGIN HIDDEN TESTS\n",
    "assert(even(0) == True)\n",
    "assert(even(1) == False)\n",
    "### END HIDDEN TESTS"
   ]
  }
 ],
 "metadata": {
  "kernelspec": {
   "display_name": "Python 3 (ipykernel)",
   "language": "python",
   "name": "python3"
  },
  "language_info": {
   "codemirror_mode": {
    "name": "ipython",
    "version": 3
   },
   "file_extension": ".py",
   "mimetype": "text/x-python",
   "name": "python",
   "nbconvert_exporter": "python",
   "pygments_lexer": "ipython3",
   "version": "3.11.7"
  }
 },
 "nbformat": 4,
 "nbformat_minor": 5
}
