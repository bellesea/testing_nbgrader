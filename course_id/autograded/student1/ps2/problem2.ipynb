{
 "cells": [
  {
   "cell_type": "markdown",
   "metadata": {},
   "source": [
    "Before you turn this problem in, make sure everything runs as expected. First, **restart the kernel** (in the menubar, select Kernel $\\rightarrow$ Restart) and then **run all cells** (in the menubar, select Cell $\\rightarrow$ Run All).\n",
    "\n",
    "Make sure you fill in any place that says `YOUR CODE HERE` or \"YOUR ANSWER HERE\", as well as your name and collaborators below:"
   ]
  },
  {
   "cell_type": "code",
   "execution_count": 1,
   "metadata": {
    "execution": {
     "iopub.execute_input": "2025-03-02T20:39:24.468646Z",
     "iopub.status.busy": "2025-03-02T20:39:24.468525Z",
     "iopub.status.idle": "2025-03-02T20:39:24.472759Z",
     "shell.execute_reply": "2025-03-02T20:39:24.472419Z"
    }
   },
   "outputs": [],
   "source": [
    "NAME = \"\"\n",
    "COLLABORATORS = \"\""
   ]
  },
  {
   "cell_type": "markdown",
   "metadata": {},
   "source": [
    "---"
   ]
  },
  {
   "cell_type": "code",
   "execution_count": 2,
   "metadata": {
    "deletable": false,
    "execution": {
     "iopub.execute_input": "2025-03-02T20:39:24.474490Z",
     "iopub.status.busy": "2025-03-02T20:39:24.474393Z",
     "iopub.status.idle": "2025-03-02T20:39:24.476176Z",
     "shell.execute_reply": "2025-03-02T20:39:24.475913Z"
    },
    "nbgrader": {
     "cell_type": "code",
     "checksum": "896e9519fd53dd0f49dfaea5288c17b7",
     "grade": false,
     "grade_id": "cell-da5f451c0d5d3148",
     "locked": false,
     "schema_version": 3,
     "solution": true,
     "task": false
    }
   },
   "outputs": [],
   "source": [
    "def even(x):\n",
    "    if x %2 == 0:\n",
    "        return False\n",
    "    return False\n",
    "\n"
   ]
  }
 ],
 "metadata": {
  "kernelspec": {
   "display_name": "Python 3 (ipykernel)",
   "language": "python",
   "name": "python3"
  },
  "language_info": {
   "codemirror_mode": {
    "name": "ipython",
    "version": 3
   },
   "file_extension": ".py",
   "mimetype": "text/x-python",
   "name": "python",
   "nbconvert_exporter": "python",
   "pygments_lexer": "ipython3",
   "version": "3.11.7"
  }
 },
 "nbformat": 4,
 "nbformat_minor": 4
}
